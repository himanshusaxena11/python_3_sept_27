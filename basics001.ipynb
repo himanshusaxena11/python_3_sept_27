{
 "cells": [
  {
   "cell_type": "code",
   "execution_count": 1,
   "id": "de004c38",
   "metadata": {},
   "outputs": [
    {
     "data": {
      "text/plain": [
       "\"ram's book\""
      ]
     },
     "execution_count": 1,
     "metadata": {},
     "output_type": "execute_result"
    }
   ],
   "source": [
    "\"ram's book\""
   ]
  },
  {
   "cell_type": "code",
   "execution_count": 2,
   "id": "8d19b08d",
   "metadata": {},
   "outputs": [
    {
     "name": "stdout",
     "output_type": "stream",
     "text": [
      "how come,\n",
      "you reach there,\n",
      "without notice\n"
     ]
    }
   ],
   "source": [
    "print('''how come,\n",
    "you reach there,\n",
    "without notice''')"
   ]
  },
  {
   "cell_type": "code",
   "execution_count": 3,
   "id": "e1cb0ed9",
   "metadata": {},
   "outputs": [
    {
     "data": {
      "text/plain": [
       "'hey whats up'"
      ]
     },
     "execution_count": 3,
     "metadata": {},
     "output_type": "execute_result"
    }
   ],
   "source": [
    "\"hey whats up\""
   ]
  },
  {
   "cell_type": "code",
   "execution_count": 4,
   "id": "1b3606d5",
   "metadata": {},
   "outputs": [
    {
     "data": {
      "text/plain": [
       "'90'"
      ]
     },
     "execution_count": 4,
     "metadata": {},
     "output_type": "execute_result"
    }
   ],
   "source": [
    "'90'"
   ]
  },
  {
   "cell_type": "code",
   "execution_count": 5,
   "id": "08f35b61",
   "metadata": {},
   "outputs": [
    {
     "data": {
      "text/plain": [
       "678"
      ]
     },
     "execution_count": 5,
     "metadata": {},
     "output_type": "execute_result"
    }
   ],
   "source": [
    "x=678\n",
    "678"
   ]
  },
  {
   "cell_type": "code",
   "execution_count": 6,
   "id": "244bc219",
   "metadata": {},
   "outputs": [
    {
     "data": {
      "text/plain": [
       "678"
      ]
     },
     "execution_count": 6,
     "metadata": {},
     "output_type": "execute_result"
    }
   ],
   "source": [
    "x"
   ]
  },
  {
   "cell_type": "code",
   "execution_count": 7,
   "id": "81b1cf67",
   "metadata": {},
   "outputs": [
    {
     "name": "stdout",
     "output_type": "stream",
     "text": [
      "y\n"
     ]
    }
   ],
   "source": [
    "print('y')"
   ]
  },
  {
   "cell_type": "code",
   "execution_count": 8,
   "id": "8759becd",
   "metadata": {},
   "outputs": [
    {
     "name": "stdout",
     "output_type": "stream",
     "text": [
      "45\n"
     ]
    }
   ],
   "source": [
    "y=45\n",
    "print(y)"
   ]
  },
  {
   "cell_type": "code",
   "execution_count": 9,
   "id": "327f0053",
   "metadata": {},
   "outputs": [
    {
     "data": {
      "text/plain": [
       "int"
      ]
     },
     "execution_count": 9,
     "metadata": {},
     "output_type": "execute_result"
    }
   ],
   "source": [
    "type(y)"
   ]
  },
  {
   "cell_type": "code",
   "execution_count": 10,
   "id": "0ad1c6c5",
   "metadata": {},
   "outputs": [
    {
     "data": {
      "text/plain": [
       "float"
      ]
     },
     "execution_count": 10,
     "metadata": {},
     "output_type": "execute_result"
    }
   ],
   "source": [
    "s=894.93\n",
    "type(s)"
   ]
  },
  {
   "cell_type": "code",
   "execution_count": 11,
   "id": "a09db683",
   "metadata": {},
   "outputs": [
    {
     "ename": "NameError",
     "evalue": "name 'true' is not defined",
     "output_type": "error",
     "traceback": [
      "\u001b[1;31m---------------------------------------------------------------------------\u001b[0m",
      "\u001b[1;31mNameError\u001b[0m                                 Traceback (most recent call last)",
      "Input \u001b[1;32mIn [11]\u001b[0m, in \u001b[0;36m<cell line: 1>\u001b[1;34m()\u001b[0m\n\u001b[1;32m----> 1\u001b[0m \u001b[43mtrue\u001b[49m\n",
      "\u001b[1;31mNameError\u001b[0m: name 'true' is not defined"
     ]
    }
   ],
   "source": [
    "true"
   ]
  },
  {
   "cell_type": "code",
   "execution_count": null,
   "id": "21e574f3",
   "metadata": {},
   "outputs": [],
   "source": [
    "g='true'"
   ]
  },
  {
   "cell_type": "code",
   "execution_count": null,
   "id": "dbbc61fc",
   "metadata": {},
   "outputs": [],
   "source": [
    "type(g)"
   ]
  },
  {
   "cell_type": "code",
   "execution_count": null,
   "id": "e216fb3e",
   "metadata": {},
   "outputs": [],
   "source": [
    "a=\"bhjhuihv.huhijo789839%%&&\""
   ]
  },
  {
   "cell_type": "code",
   "execution_count": null,
   "id": "5121ca99",
   "metadata": {},
   "outputs": [],
   "source": [
    "type(a)"
   ]
  },
  {
   "cell_type": "code",
   "execution_count": 13,
   "id": "f0389cb4",
   "metadata": {},
   "outputs": [
    {
     "data": {
      "text/plain": [
       "bool"
      ]
     },
     "execution_count": 13,
     "metadata": {},
     "output_type": "execute_result"
    }
   ],
   "source": [
    "d=True\n",
    "type(d)"
   ]
  },
  {
   "cell_type": "code",
   "execution_count": 16,
   "id": "6e7f9cfe",
   "metadata": {},
   "outputs": [
    {
     "name": "stdout",
     "output_type": "stream",
     "text": [
      "18\n",
      "168\n",
      "1.5714285714285714\n"
     ]
    }
   ],
   "source": [
    "a=8\n",
    "b=3\n",
    "c=7\n",
    "print(a+b+c)\n",
    "print(a*b*c)\n",
    "print((a+b)/c)"
   ]
  },
  {
   "cell_type": "code",
   "execution_count": 17,
   "id": "d6a5bc08",
   "metadata": {},
   "outputs": [
    {
     "name": "stdout",
     "output_type": "stream",
     "text": [
      "without interchange 4 9\n",
      "after interchange 9 4\n"
     ]
    }
   ],
   "source": [
    "#interchanging values\n",
    "a=4\n",
    "b=9\n",
    "print('without interchange',a,b)\n",
    "a,b=b,a\n",
    "print('after interchange',a,b)"
   ]
  },
  {
   "cell_type": "code",
   "execution_count": 18,
   "id": "f8a50b1a",
   "metadata": {},
   "outputs": [
    {
     "name": "stdout",
     "output_type": "stream",
     "text": [
      "without interchange 6 3\n",
      "after interchange 3 6\n"
     ]
    }
   ],
   "source": [
    "#interchanging values 3rd var\n",
    "a=6\n",
    "b=3\n",
    "print('without interchange',a,b)\n",
    "c=a\n",
    "a=b\n",
    "b=c\n",
    "print('after interchange',a,b)"
   ]
  },
  {
   "cell_type": "code",
   "execution_count": 21,
   "id": "e42bdbec",
   "metadata": {},
   "outputs": [
    {
     "ename": "NameError",
     "evalue": "name 'j7' is not defined",
     "output_type": "error",
     "traceback": [
      "\u001b[1;31m---------------------------------------------------------------------------\u001b[0m",
      "\u001b[1;31mNameError\u001b[0m                                 Traceback (most recent call last)",
      "Input \u001b[1;32mIn [21]\u001b[0m, in \u001b[0;36m<cell line: 1>\u001b[1;34m()\u001b[0m\n\u001b[1;32m----> 1\u001b[0m a\u001b[38;5;241m=\u001b[39m\u001b[38;5;241m6\u001b[39m\u001b[38;5;241m+\u001b[39m\u001b[43mj7\u001b[49m\n",
      "\u001b[1;31mNameError\u001b[0m: name 'j7' is not defined"
     ]
    }
   ],
   "source": [
    "a=6+j7"
   ]
  },
  {
   "cell_type": "code",
   "execution_count": 22,
   "id": "eac98892",
   "metadata": {},
   "outputs": [],
   "source": [
    "b=4+8j"
   ]
  },
  {
   "cell_type": "code",
   "execution_count": 23,
   "id": "be32a806",
   "metadata": {},
   "outputs": [
    {
     "data": {
      "text/plain": [
       "complex"
      ]
     },
     "execution_count": 23,
     "metadata": {},
     "output_type": "execute_result"
    }
   ],
   "source": [
    "type(b)"
   ]
  },
  {
   "cell_type": "code",
   "execution_count": 24,
   "id": "586818ff",
   "metadata": {},
   "outputs": [],
   "source": [
    "x,y,t=4,9,6"
   ]
  },
  {
   "cell_type": "code",
   "execution_count": 25,
   "id": "1ed4d8c6",
   "metadata": {},
   "outputs": [
    {
     "data": {
      "text/plain": [
       "4"
      ]
     },
     "execution_count": 25,
     "metadata": {},
     "output_type": "execute_result"
    }
   ],
   "source": [
    "x"
   ]
  },
  {
   "cell_type": "code",
   "execution_count": 26,
   "id": "337c7b8d",
   "metadata": {},
   "outputs": [
    {
     "data": {
      "text/plain": [
       "6"
      ]
     },
     "execution_count": 26,
     "metadata": {},
     "output_type": "execute_result"
    }
   ],
   "source": [
    "t"
   ]
  },
  {
   "cell_type": "code",
   "execution_count": 27,
   "id": "b4db218e",
   "metadata": {},
   "outputs": [],
   "source": [
    "d=7\n",
    "d=3\n",
    "d=9"
   ]
  },
  {
   "cell_type": "code",
   "execution_count": 28,
   "id": "bee8d801",
   "metadata": {},
   "outputs": [
    {
     "name": "stdout",
     "output_type": "stream",
     "text": [
      "9\n"
     ]
    }
   ],
   "source": [
    "print(d)"
   ]
  },
  {
   "cell_type": "markdown",
   "id": "7ce9d6a5",
   "metadata": {},
   "source": [
    "# / (division) and % (modulo)"
   ]
  },
  {
   "cell_type": "code",
   "execution_count": 34,
   "id": "2f9adc29",
   "metadata": {},
   "outputs": [
    {
     "data": {
      "text/plain": [
       "1.4"
      ]
     },
     "execution_count": 34,
     "metadata": {},
     "output_type": "execute_result"
    }
   ],
   "source": [
    "g=7\n",
    "h=5\n",
    "g/h"
   ]
  },
  {
   "cell_type": "code",
   "execution_count": 35,
   "id": "cabdeccc",
   "metadata": {},
   "outputs": [
    {
     "data": {
      "text/plain": [
       "1"
      ]
     },
     "execution_count": 35,
     "metadata": {},
     "output_type": "execute_result"
    }
   ],
   "source": [
    "g=7\n",
    "h=5\n",
    "g//h"
   ]
  },
  {
   "cell_type": "code",
   "execution_count": 36,
   "id": "a00187af",
   "metadata": {},
   "outputs": [
    {
     "data": {
      "text/plain": [
       "2"
      ]
     },
     "execution_count": 36,
     "metadata": {},
     "output_type": "execute_result"
    }
   ],
   "source": [
    "f=6\n",
    "s=4\n",
    "f%s"
   ]
  },
  {
   "cell_type": "code",
   "execution_count": null,
   "id": "df9be353",
   "metadata": {},
   "outputs": [],
   "source": []
  }
 ],
 "metadata": {
  "kernelspec": {
   "display_name": "Python 3 (ipykernel)",
   "language": "python",
   "name": "python3"
  },
  "language_info": {
   "codemirror_mode": {
    "name": "ipython",
    "version": 3
   },
   "file_extension": ".py",
   "mimetype": "text/x-python",
   "name": "python",
   "nbconvert_exporter": "python",
   "pygments_lexer": "ipython3",
   "version": "3.9.12"
  }
 },
 "nbformat": 4,
 "nbformat_minor": 5
}
